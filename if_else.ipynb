{
  "nbformat": 4,
  "nbformat_minor": 0,
  "metadata": {
    "colab": {
      "name": "if_else.ipynb",
      "provenance": [],
      "authorship_tag": "ABX9TyMC+kvwXXRBje6lFPChjw38",
      "include_colab_link": true
    },
    "kernelspec": {
      "name": "python3",
      "display_name": "Python 3"
    },
    "language_info": {
      "name": "python"
    }
  },
  "cells": [
    {
      "cell_type": "markdown",
      "metadata": {
        "id": "view-in-github",
        "colab_type": "text"
      },
      "source": [
        "<a href=\"https://colab.research.google.com/github/Princekrsingh2000/html/blob/master/if_else.ipynb\" target=\"_parent\"><img src=\"https://colab.research.google.com/assets/colab-badge.svg\" alt=\"Open In Colab\"/></a>"
      ]
    },
    {
      "cell_type": "code",
      "metadata": {
        "colab": {
          "base_uri": "https://localhost:8080/"
        },
        "id": "VpsYNt3Ktzxo",
        "outputId": "9019642b-3c9b-40a7-a8d8-fe1b51f10808"
      },
      "source": [
        "n=int(input(\"enter the number\"))\n",
        "if n%5==0:\n",
        "  print(\"Hello\")\n",
        "else:\n",
        "  print(\"Bye\")"
      ],
      "execution_count": 3,
      "outputs": [
        {
          "output_type": "stream",
          "text": [
            "enter the number4\n",
            "Bye\n"
          ],
          "name": "stdout"
        }
      ]
    },
    {
      "cell_type": "code",
      "metadata": {
        "colab": {
          "base_uri": "https://localhost:8080/"
        },
        "id": "oOeW8025uXJc",
        "outputId": "37014ea6-ab15-4b7b-9fb7-b1b5a4ee50e0"
      },
      "source": [
        "n=int(input(\"enter the unit\"))\n",
        "amount=0\n",
        "if n<=100:\n",
        "  amount=0\n",
        "elif n>100 and n<=200:\n",
        "  amount=(n-100)*5\n",
        "elif n>200:\n",
        "  amount=500+(n-200)*10\n",
        "print(amount)"
      ],
      "execution_count": 5,
      "outputs": [
        {
          "output_type": "stream",
          "text": [
            "enter the unit300\n",
            "1500\n"
          ],
          "name": "stdout"
        }
      ]
    },
    {
      "cell_type": "code",
      "metadata": {
        "colab": {
          "base_uri": "https://localhost:8080/"
        },
        "id": "wCcu0qaSvWrJ",
        "outputId": "860c90da-458e-4754-a000-cc3aae6ac848"
      },
      "source": [
        "n=int(input(\"enter the number\"))\n",
        "last_dig=n%10\n",
        "print(last_dig)"
      ],
      "execution_count": 8,
      "outputs": [
        {
          "output_type": "stream",
          "text": [
            "enter the number122\n",
            "2\n"
          ],
          "name": "stdout"
        }
      ]
    },
    {
      "cell_type": "code",
      "metadata": {
        "colab": {
          "base_uri": "https://localhost:8080/"
        },
        "id": "pNjPZwi9vxuw",
        "outputId": "8ebef7b8-f90f-4379-be44-f6df304579ce"
      },
      "source": [
        "n=int(input(\"enter the number\"))\n",
        "c=0\n",
        "while c<=3:\n",
        "  digit=n%10\n",
        "  c+=1\n",
        "if digit%3==0:\n",
        "  print(\"divisible by 3\")\n",
        "else:\n",
        "  print(\"not divisible by 3\")"
      ],
      "execution_count": 10,
      "outputs": [
        {
          "output_type": "stream",
          "text": [
            "enter the number120001\n",
            "not divisible by 3\n"
          ],
          "name": "stdout"
        }
      ]
    },
    {
      "cell_type": "code",
      "metadata": {
        "colab": {
          "base_uri": "https://localhost:8080/"
        },
        "id": "qWaqW6JNwqoF",
        "outputId": "2e2e5e2c-fc1f-4ff3-91ce-c76023723538"
      },
      "source": [
        "n=int(input(\"enter the percentage\"))\n",
        "if n>90:\n",
        "  print(\"A\")\n",
        "elif n>80 and n<=90:\n",
        "  print(\"B\")\n",
        "elif n>=60 and n<=80:\n",
        "  print(\"C\")\n",
        "else:\n",
        "  print(\"D\")"
      ],
      "execution_count": 14,
      "outputs": [
        {
          "output_type": "stream",
          "text": [
            "enter the percentage50\n",
            "D\n"
          ],
          "name": "stdout"
        }
      ]
    },
    {
      "cell_type": "code",
      "metadata": {
        "colab": {
          "base_uri": "https://localhost:8080/"
        },
        "id": "8l0ipJgTxUE0",
        "outputId": "81125d59-ec35-4555-d391-88781eb11843"
      },
      "source": [
        "n=int(input(\"enter the cost price\"))\n",
        "tax=0\n",
        "if n>100000:\n",
        "  tax=15/100*n\n",
        "elif n>50000 and n<=100000:\n",
        "  tax=10/100*n\n",
        "else:\n",
        "  tax=5/100*n\n",
        "print(tax)\n",
        "\n"
      ],
      "execution_count": 16,
      "outputs": [
        {
          "output_type": "stream",
          "text": [
            "enter the cost price100000\n",
            "10000.0\n"
          ],
          "name": "stdout"
        }
      ]
    },
    {
      "cell_type": "code",
      "metadata": {
        "colab": {
          "base_uri": "https://localhost:8080/"
        },
        "id": "k1AfBzF9yUR-",
        "outputId": "2f31ff29-6531-4382-839f-146799c08b78"
      },
      "source": [
        "n=int(input(\"enter the year\"))\n",
        "if n%4==0 and (n%400==0 or n%100==0):\n",
        "  print(\"year is leap year\")\n",
        "else:\n",
        "  print(\"not a leap year\")"
      ],
      "execution_count": 20,
      "outputs": [
        {
          "output_type": "stream",
          "text": [
            "enter the year2001\n",
            "not a leap year\n"
          ],
          "name": "stdout"
        }
      ]
    },
    {
      "cell_type": "code",
      "metadata": {
        "colab": {
          "base_uri": "https://localhost:8080/"
        },
        "id": "OWMRvG6bzA7K",
        "outputId": "895893dc-0e6d-48d2-e850-08106acdc125"
      },
      "source": [
        "n1=int(input(\"enter the value of n1\"))\n",
        "n2=int(input(\"enter the value of n2\"))\n",
        "sum=n1+n2\n",
        "print(sum)"
      ],
      "execution_count": 21,
      "outputs": [
        {
          "output_type": "stream",
          "text": [
            "enter the value of n12\n",
            "enter the value of n223\n",
            "25\n"
          ],
          "name": "stdout"
        }
      ]
    },
    {
      "cell_type": "code",
      "metadata": {
        "colab": {
          "base_uri": "https://localhost:8080/"
        },
        "id": "YudEJ7xA0Wy7",
        "outputId": "16dad3c8-13b6-46ea-bb2f-c41e63b3bf14"
      },
      "source": [
        "n=int(input(\"enter the number\"))\n",
        "n1=int(input(\"enter the number\"))\n",
        "if n>n1:\n",
        "  print(\"n is greater than n1\")\n",
        "else:\n",
        "  print(\"n1 is greater than n\")\n",
        "print(max(n,n1))"
      ],
      "execution_count": 23,
      "outputs": [
        {
          "output_type": "stream",
          "text": [
            "enter the number11\n",
            "enter the number19\n",
            "n1 is greater than n\n",
            "19\n"
          ],
          "name": "stdout"
        }
      ]
    },
    {
      "cell_type": "code",
      "metadata": {
        "colab": {
          "base_uri": "https://localhost:8080/"
        },
        "id": "jkJvCHGk0yQy",
        "outputId": "4d66324f-963f-4b0c-bdf2-ab03b8a63a10"
      },
      "source": [
        "def fact(n):\n",
        "  if n<0:\n",
        "    return 0\n",
        "  elif n==0 and n==1:\n",
        "    return 1\n",
        "  else:\n",
        "    fact=1\n",
        "    while n>1:\n",
        "      fact*=n\n",
        "      n-=1\n",
        "    return fact\n",
        "print(fact(6))"
      ],
      "execution_count": 33,
      "outputs": [
        {
          "output_type": "stream",
          "text": [
            "720\n"
          ],
          "name": "stdout"
        }
      ]
    },
    {
      "cell_type": "code",
      "metadata": {
        "colab": {
          "base_uri": "https://localhost:8080/"
        },
        "id": "VUCdb7oj2gq9",
        "outputId": "d9ba131e-78ff-4956-ca0a-8152212cc826"
      },
      "source": [
        "n=int(input(\"enter the no\"))\n",
        "fact=1\n",
        "for i in range(1,n+1):\n",
        "  fact*=i\n",
        "print(fact)"
      ],
      "execution_count": 38,
      "outputs": [
        {
          "output_type": "stream",
          "text": [
            "enter the no22\n",
            "1124000727777607680000\n"
          ],
          "name": "stdout"
        }
      ]
    },
    {
      "cell_type": "code",
      "metadata": {
        "colab": {
          "base_uri": "https://localhost:8080/"
        },
        "id": "-FOn8yle3Mo-",
        "outputId": "a1b4bb07-f181-4cb8-e035-8c8a74cc0ca6"
      },
      "source": [
        "def fact1(n):\n",
        "  if n==1:\n",
        "    return 1\n",
        "  else:\n",
        "    return n*fact1(n-1)\n",
        "print(fact1(5))"
      ],
      "execution_count": 42,
      "outputs": [
        {
          "output_type": "stream",
          "text": [
            "120\n"
          ],
          "name": "stdout"
        }
      ]
    },
    {
      "cell_type": "code",
      "metadata": {
        "colab": {
          "base_uri": "https://localhost:8080/"
        },
        "id": "KmLNPPBu3siu",
        "outputId": "d46f3800-0d79-4334-e994-9f0620db42ec"
      },
      "source": [
        "import math\n",
        "def fact(n):\n",
        "  return(math.factorial(n))\n",
        "print(fact(5))\n"
      ],
      "execution_count": 43,
      "outputs": [
        {
          "output_type": "stream",
          "text": [
            "120\n"
          ],
          "name": "stdout"
        }
      ]
    },
    {
      "cell_type": "code",
      "metadata": {
        "colab": {
          "base_uri": "https://localhost:8080/"
        },
        "id": "7cLkCFZ83-h8",
        "outputId": "6b6e39be-6312-49d3-f797-73e1d801cf1f"
      },
      "source": [
        "p=1000\n",
        "r=5\n",
        "t=5\n",
        "a=p*(1+r/t)\n",
        "print(a)"
      ],
      "execution_count": 44,
      "outputs": [
        {
          "output_type": "stream",
          "text": [
            "2000.0\n"
          ],
          "name": "stdout"
        }
      ]
    },
    {
      "cell_type": "code",
      "metadata": {
        "colab": {
          "base_uri": "https://localhost:8080/",
          "height": 256
        },
        "id": "kaalzvcl4ciY",
        "outputId": "5b174503-db4f-4f83-ee34-9a40faba7ac5"
      },
      "source": [
        "### ARMSTRONG NUMBER\n",
        "n=int(input(\"enter the number\"))\n",
        "temp=n\n",
        "while temp!=0:\n",
        "  rev=temp%10\n",
        "  digit=digit+(rev*rev*rev)\n",
        "  n=temp//10\n",
        "if temp==digit:\n",
        "  print(\"True\")\n",
        "else:\n",
        "  print(\"False\")"
      ],
      "execution_count": 53,
      "outputs": [
        {
          "output_type": "stream",
          "text": [
            "enter the number153\n"
          ],
          "name": "stdout"
        },
        {
          "output_type": "error",
          "ename": "KeyboardInterrupt",
          "evalue": "ignored",
          "traceback": [
            "\u001b[0;31m---------------------------------------------------------------------------\u001b[0m",
            "\u001b[0;31mKeyboardInterrupt\u001b[0m                         Traceback (most recent call last)",
            "\u001b[0;32m<ipython-input-53-e500c50b8301>\u001b[0m in \u001b[0;36m<module>\u001b[0;34m()\u001b[0m\n\u001b[1;32m      4\u001b[0m \u001b[0;32mwhile\u001b[0m \u001b[0mtemp\u001b[0m\u001b[0;34m!=\u001b[0m\u001b[0;36m0\u001b[0m\u001b[0;34m:\u001b[0m\u001b[0;34m\u001b[0m\u001b[0;34m\u001b[0m\u001b[0m\n\u001b[1;32m      5\u001b[0m   \u001b[0mrev\u001b[0m\u001b[0;34m=\u001b[0m\u001b[0mtemp\u001b[0m\u001b[0;34m%\u001b[0m\u001b[0;36m10\u001b[0m\u001b[0;34m\u001b[0m\u001b[0;34m\u001b[0m\u001b[0m\n\u001b[0;32m----> 6\u001b[0;31m   \u001b[0mdigit\u001b[0m\u001b[0;34m=\u001b[0m\u001b[0mdigit\u001b[0m\u001b[0;34m+\u001b[0m\u001b[0;34m(\u001b[0m\u001b[0mrev\u001b[0m\u001b[0;34m*\u001b[0m\u001b[0mrev\u001b[0m\u001b[0;34m*\u001b[0m\u001b[0mrev\u001b[0m\u001b[0;34m)\u001b[0m\u001b[0;34m\u001b[0m\u001b[0;34m\u001b[0m\u001b[0m\n\u001b[0m\u001b[1;32m      7\u001b[0m   \u001b[0mn\u001b[0m\u001b[0;34m=\u001b[0m\u001b[0mtemp\u001b[0m\u001b[0;34m//\u001b[0m\u001b[0;36m10\u001b[0m\u001b[0;34m\u001b[0m\u001b[0;34m\u001b[0m\u001b[0m\n\u001b[1;32m      8\u001b[0m \u001b[0;32mif\u001b[0m \u001b[0mtemp\u001b[0m\u001b[0;34m==\u001b[0m\u001b[0mdigit\u001b[0m\u001b[0;34m:\u001b[0m\u001b[0;34m\u001b[0m\u001b[0;34m\u001b[0m\u001b[0m\n",
            "\u001b[0;31mKeyboardInterrupt\u001b[0m: "
          ]
        }
      ]
    },
    {
      "cell_type": "code",
      "metadata": {
        "colab": {
          "base_uri": "https://localhost:8080/"
        },
        "id": "Up5ntQhM6_jo",
        "outputId": "e594d211-7dc2-49d6-c17d-de3ea9438b1a"
      },
      "source": [
        "def prime(n):\n",
        "  n=int(input(\"enter the number\"))\n",
        "  d=2\n",
        "  flag=False\n",
        "  while d<n:\n",
        "    if n%d==0:\n",
        "      flag=True\n",
        "    d+=1\n",
        "  if flag:\n",
        "    print(\"not prime\")\n",
        "  else:\n",
        "    print(\"prime\")\n",
        "print(prime(n))"
      ],
      "execution_count": 57,
      "outputs": [
        {
          "output_type": "stream",
          "text": [
            "enter the number3\n",
            "prime\n",
            "None\n"
          ],
          "name": "stdout"
        }
      ]
    },
    {
      "cell_type": "code",
      "metadata": {
        "colab": {
          "base_uri": "https://localhost:8080/",
          "height": 132
        },
        "id": "FfwdBXqV8RNg",
        "outputId": "b3728f8c-243e-4765-f9a7-4a5df2b85748"
      },
      "source": [
        "n=int(input(\"enter the number\"))\n",
        "    \n",
        "  "
      ],
      "execution_count": 83,
      "outputs": [
        {
          "output_type": "error",
          "ename": "IndentationError",
          "evalue": "ignored",
          "traceback": [
            "\u001b[0;36m  File \u001b[0;32m\"<ipython-input-83-01a2d421d8fb>\"\u001b[0;36m, line \u001b[0;32m3\u001b[0m\n\u001b[0;31m    for d in range(2,int(n/2)+1):\u001b[0m\n\u001b[0m    ^\u001b[0m\n\u001b[0;31mIndentationError\u001b[0m\u001b[0;31m:\u001b[0m unexpected indent\n"
          ]
        }
      ]
    },
    {
      "cell_type": "code",
      "metadata": {
        "colab": {
          "base_uri": "https://localhost:8080/"
        },
        "id": "uY9A3wrO-z_j",
        "outputId": "b2973fac-3141-413c-c405-33c76fe131fe"
      },
      "source": [
        "n=int(input(\"enter the number\"))\n",
        "for i in range(3,n+1,3):\n",
        "  print(i)\n"
      ],
      "execution_count": 80,
      "outputs": [
        {
          "output_type": "stream",
          "text": [
            "enter the number10\n",
            "3\n",
            "6\n",
            "9\n"
          ],
          "name": "stdout"
        }
      ]
    },
    {
      "cell_type": "code",
      "metadata": {
        "id": "dT3p9Le4_OEO"
      },
      "source": [
        ""
      ],
      "execution_count": null,
      "outputs": []
    },
    {
      "cell_type": "code",
      "metadata": {
        "colab": {
          "base_uri": "https://localhost:8080/"
        },
        "id": "2sJVySRW_OHH",
        "outputId": "1efd0479-dc68-4a7f-8754-6a57ce0eb340"
      },
      "source": [
        "def palindrome(n):\n",
        "  n=int(input(\"enter the number\"))\n",
        "  rev=0\n",
        "  temp=n\n",
        "  while n>0:\n",
        "    n1=n%10\n",
        "    rev=rev*10+n1\n",
        "    n=n//10\n",
        "  if rev==temp:\n",
        "    return 'palin'\n",
        "  else:\n",
        "    return \"not palin\"\n",
        "\n",
        "print(palindrome(n))\n"
      ],
      "execution_count": 93,
      "outputs": [
        {
          "output_type": "stream",
          "text": [
            "enter the number121\n",
            "palin\n"
          ],
          "name": "stdout"
        }
      ]
    },
    {
      "cell_type": "code",
      "metadata": {
        "colab": {
          "base_uri": "https://localhost:8080/"
        },
        "id": "K6ICpzmpBrhX",
        "outputId": "ca775701-a901-4c44-c310-764a90109a0a"
      },
      "source": [
        "n=int(input(\"enter the number\"))\n",
        "even_sum=0\n",
        "odd_sum=0\n",
        "while n>0:\n",
        "  last_digit=n%10\n",
        "  if last_digit%2==0:\n",
        "    even_sum+=last_digit\n",
        "  else:\n",
        "    odd_sum+=last_digit\n",
        "  n=n//10\n",
        "print(even_sum,odd_sum)\n"
      ],
      "execution_count": 110,
      "outputs": [
        {
          "output_type": "stream",
          "text": [
            "enter the number1234\n",
            "6 4\n"
          ],
          "name": "stdout"
        }
      ]
    },
    {
      "cell_type": "code",
      "metadata": {
        "colab": {
          "base_uri": "https://localhost:8080/"
        },
        "id": "cgTaDyulGHQZ",
        "outputId": "e89c1c91-6675-4a97-c4bd-e8a99796b536"
      },
      "source": [
        "n=1234\n",
        "even_sum=0\n",
        "odd_sum=0\n",
        "while n>0:\n",
        "  last_digit=n%10\n",
        "  if last_digit%2==0:\n",
        "    even_sum+=last_digit\n",
        "  else:\n",
        "    odd_sum+=last_digit\n",
        "  n=n//10\n",
        "print(even_sum,odd_sum)"
      ],
      "execution_count": 112,
      "outputs": [
        {
          "output_type": "stream",
          "text": [
            "6 4\n"
          ],
          "name": "stdout"
        }
      ]
    },
    {
      "cell_type": "code",
      "metadata": {
        "colab": {
          "base_uri": "https://localhost:8080/"
        },
        "id": "lg4-1XQWG2oD",
        "outputId": "3eba0b06-d613-497c-ade8-d24ecbdd969f"
      },
      "source": [
        "n=input(\"enter the number\")\n",
        "evensum=0\n",
        "odd_sum=0\n",
        "for i in range(int(n)):\n",
        "  evensum+=i\n",
        "i+=2\n",
        "print(evensum)"
      ],
      "execution_count": 115,
      "outputs": [
        {
          "output_type": "stream",
          "text": [
            "enter the number1234\n",
            "760761\n"
          ],
          "name": "stdout"
        }
      ]
    },
    {
      "cell_type": "code",
      "metadata": {
        "colab": {
          "base_uri": "https://localhost:8080/"
        },
        "id": "MIcpSZWYHwLa",
        "outputId": "5ad3a505-0919-4717-ce99-587a05822b59"
      },
      "source": [
        "n=int(input(\"enter the number\"))\n",
        "temp=n\n",
        "d=n%10\n",
        "rev=rev*10+d\n",
        "n=n//10\n",
        "print(rev)"
      ],
      "execution_count": 118,
      "outputs": [
        {
          "output_type": "stream",
          "text": [
            "enter the number1234\n",
            "394\n"
          ],
          "name": "stdout"
        }
      ]
    },
    {
      "cell_type": "code",
      "metadata": {
        "colab": {
          "base_uri": "https://localhost:8080/"
        },
        "id": "yOvvbh2YI4xX",
        "outputId": "4a513e1a-ce7c-4195-947e-c677fbe6b812"
      },
      "source": [
        "def reverse(n):\n",
        "\n",
        "  while(n%10==0):\n",
        "    n=n//10\n",
        "\n",
        "  reverse_num=0\n",
        "  remainder=0\n",
        "  while n>0:\n",
        "    remainder=n%10\n",
        "    reverse_num=reverse_num*10+remainder\n",
        "    n=n//10\n",
        "  return reverse_num\n",
        "print(reverse(12345))\n",
        "print(reverse(123000))"
      ],
      "execution_count": 121,
      "outputs": [
        {
          "output_type": "stream",
          "text": [
            "54321\n",
            "321\n"
          ],
          "name": "stdout"
        }
      ]
    },
    {
      "cell_type": "code",
      "metadata": {
        "colab": {
          "base_uri": "https://localhost:8080/"
        },
        "id": "MSgbKZoaLnxu",
        "outputId": "d35b4ca5-ec2d-4d1d-ab44-97e5eed784b7"
      },
      "source": [
        "def fibbo(n):\n",
        "  n=int(input(\"enter the input\"))\n",
        "  a=0\n",
        "  b=1\n",
        "  if n<0:\n",
        "    print(\"not found\")\n",
        "  elif n==0:\n",
        "    return a\n",
        "  elif n==1:\n",
        "    return b\n",
        "  else:\n",
        "    for i in range(2,n+1):\n",
        "      c=a+b\n",
        "      a=b\n",
        "      b=c\n",
        "    return b\n",
        "print(fibbo(n))"
      ],
      "execution_count": 124,
      "outputs": [
        {
          "output_type": "stream",
          "text": [
            "enter the input9\n",
            "34\n"
          ],
          "name": "stdout"
        }
      ]
    },
    {
      "cell_type": "code",
      "metadata": {
        "colab": {
          "base_uri": "https://localhost:8080/"
        },
        "id": "CYEhVIITMboc",
        "outputId": "35eb2b5f-f721-4075-f1d7-fa5b88cf7c4b"
      },
      "source": [
        "def fibbo1(n):\n",
        "  if n<0:\n",
        "    print(\"not found\")\n",
        "  if n==0:\n",
        "\n",
        "    return 0\n",
        "  elif n==1:\n",
        "\n",
        "    return 1\n",
        "\n",
        "  else:\n",
        "    return fibbo1(n-1)+fibbo1(n-2)\n",
        "print(fibbo1(9))"
      ],
      "execution_count": 127,
      "outputs": [
        {
          "output_type": "stream",
          "text": [
            "34\n"
          ],
          "name": "stdout"
        }
      ]
    },
    {
      "cell_type": "code",
      "metadata": {
        "colab": {
          "base_uri": "https://localhost:8080/",
          "height": 274
        },
        "id": "1xJ0MpSfOI8L",
        "outputId": "817b6f45-0ebd-46e1-d757-db1469458e23"
      },
      "source": [
        "choice=int(input(\"enter your choice\"))\n"
      ],
      "execution_count": 128,
      "outputs": [
        {
          "output_type": "stream",
          "text": [
            "enter the number1\n",
            "enter the value of x and y1 2\n"
          ],
          "name": "stdout"
        },
        {
          "output_type": "error",
          "ename": "ValueError",
          "evalue": "ignored",
          "traceback": [
            "\u001b[0;31m---------------------------------------------------------------------------\u001b[0m",
            "\u001b[0;31mValueError\u001b[0m                                Traceback (most recent call last)",
            "\u001b[0;32m<ipython-input-128-05d3f5d24c64>\u001b[0m in \u001b[0;36m<module>\u001b[0;34m()\u001b[0m\n\u001b[1;32m      1\u001b[0m \u001b[0mn\u001b[0m\u001b[0;34m=\u001b[0m\u001b[0mint\u001b[0m\u001b[0;34m(\u001b[0m\u001b[0minput\u001b[0m\u001b[0;34m(\u001b[0m\u001b[0;34m\"enter the number\"\u001b[0m\u001b[0;34m)\u001b[0m\u001b[0;34m)\u001b[0m\u001b[0;34m\u001b[0m\u001b[0;34m\u001b[0m\u001b[0m\n\u001b[1;32m      2\u001b[0m \u001b[0;32mif\u001b[0m \u001b[0mn\u001b[0m\u001b[0;34m==\u001b[0m\u001b[0;36m1\u001b[0m\u001b[0;34m:\u001b[0m\u001b[0;34m\u001b[0m\u001b[0;34m\u001b[0m\u001b[0m\n\u001b[0;32m----> 3\u001b[0;31m   \u001b[0mx\u001b[0m\u001b[0;34m,\u001b[0m\u001b[0my\u001b[0m\u001b[0;34m=\u001b[0m\u001b[0mint\u001b[0m\u001b[0;34m(\u001b[0m\u001b[0minput\u001b[0m\u001b[0;34m(\u001b[0m\u001b[0;34m\"enter the value of x and y\"\u001b[0m\u001b[0;34m)\u001b[0m\u001b[0;34m)\u001b[0m\u001b[0;34m.\u001b[0m\u001b[0msplit\u001b[0m\u001b[0;34m(\u001b[0m\u001b[0;34m)\u001b[0m\u001b[0;34m\u001b[0m\u001b[0;34m\u001b[0m\u001b[0m\n\u001b[0m\u001b[1;32m      4\u001b[0m   \u001b[0msum\u001b[0m\u001b[0;34m=\u001b[0m\u001b[0mx\u001b[0m\u001b[0;34m+\u001b[0m\u001b[0my\u001b[0m\u001b[0;34m\u001b[0m\u001b[0;34m\u001b[0m\u001b[0m\n\u001b[1;32m      5\u001b[0m   \u001b[0mprint\u001b[0m\u001b[0;34m(\u001b[0m\u001b[0msum\u001b[0m\u001b[0;34m)\u001b[0m\u001b[0;34m\u001b[0m\u001b[0;34m\u001b[0m\u001b[0m\n",
            "\u001b[0;31mValueError\u001b[0m: invalid literal for int() with base 10: '1 2'"
          ]
        }
      ]
    }
  ]
}